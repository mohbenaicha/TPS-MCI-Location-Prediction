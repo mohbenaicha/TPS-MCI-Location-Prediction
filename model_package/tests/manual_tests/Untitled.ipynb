{
 "cells": [
  {
   "cell_type": "code",
   "execution_count": 9,
   "id": "f92ccbaa",
   "metadata": {},
   "outputs": [],
   "source": [
    "import yaml\n",
    "import json\n",
    "import pandas as pd\n",
    "\n",
    "from manual_tests.transformers import *\n",
    "from manual_tests.load_data import load_dataset\n",
    "with open(\"config.yaml\", 'r') as stream:\n",
    "    config = yaml.safe_load(stream)\n",
    "    stream.close()"
   ]
  },
  {
   "cell_type": "code",
   "execution_count": 10,
   "id": "94ded930",
   "metadata": {},
   "outputs": [
    {
     "name": "stderr",
     "output_type": "stream",
     "text": [
      "C:\\Users\\Moham\\Desktop\\Crime Location Prediction\\model_package\\tests\\manual_tests\\load_data.py:10: DtypeWarning: Columns (25) have mixed types. Specify dtype option on import or set low_memory=False.\n",
      "  data = pd.read_csv(file_name)\n"
     ]
    },
    {
     "name": "stdout",
     "output_type": "stream",
     "text": [
      "Dropping NSA in:  Division\n",
      "NSA index:  Int64Index([ 71282,  81184,  86231, 140139, 141629, 143279, 145559, 193028,\n",
      "            193264, 199491,\n",
      "            ...\n",
      "            281672, 281674, 281675, 281678, 281684, 281685, 281686, 281687,\n",
      "            281688, 281689],\n",
      "           dtype='int64', length=829)\n",
      "Dropping NSA in:  Hood_ID\n",
      "NSA index:  Int64Index([277017, 277024, 277030, 277089, 277096, 277099, 277105, 277109,\n",
      "            277113, 277115,\n",
      "            ...\n",
      "            281482, 281483, 281521, 281525, 281528, 281534, 281544, 281555,\n",
      "            281583, 281673],\n",
      "           dtype='int64', length=318)\n",
      "Dropping NSA in:  Neighbourhood\n",
      "NSA index:  Int64Index([], dtype='int64')\n",
      "dropping invalid complete\n"
     ]
    }
   ],
   "source": [
    "data = load_dataset(file_name='Major_Crime_Indicators.csv', training = True)"
   ]
  },
  {
   "cell_type": "code",
   "execution_count": 11,
   "id": "6a1e9577",
   "metadata": {},
   "outputs": [],
   "source": [
    "dt_features = config.get('datetime_features')\n",
    "eng_features = config.get('engineered_features')\n",
    "inference_features_to_add = config.get('inference_features_to_add')\n",
    "features = config.get('train_features')\n",
    "targets = config.get('targets')\n",
    "\n",
    "eng_features = config.get('engineered_features')\n",
    "added_feature_names = [eng_features.get('pub'), eng_features.get('park'), eng_features.get('police_station')]\n",
    "\n",
    "added_features = [json.load(open(f\"manual_tests/{name}.json\"))\n",
    "                            for name in added_feature_names]\n",
    "\n",
    "hyperparams = config.get('hyperparams')"
   ]
  },
  {
   "cell_type": "code",
   "execution_count": 12,
   "id": "1895ab65",
   "metadata": {},
   "outputs": [
    {
     "name": "stderr",
     "output_type": "stream",
     "text": [
      "C:\\Users\\Moham\\AppData\\Local\\Temp\\ipykernel_17120\\222663147.py:3: SettingWithCopyWarning: \n",
      "A value is trying to be set on a copy of a slice from a DataFrame\n",
      "\n",
      "See the caveats in the documentation: https://pandas.pydata.org/pandas-docs/stable/user_guide/indexing.html#returning-a-view-versus-a-copy\n",
      "  data.drop(axis=0, index=sampled_idx, inplace=True)\n"
     ]
    }
   ],
   "source": [
    "sample = data.sample(30000)\n",
    "sampled_idx = sample.index\n",
    "data.drop(axis=0, index=sampled_idx, inplace=True)\n",
    "assert len(data[data.index.isin(sampled_idx)]) == 0"
   ]
  },
  {
   "cell_type": "code",
   "execution_count": 14,
   "id": "444807fa",
   "metadata": {},
   "outputs": [
    {
     "data": {
      "text/plain": [
       "(30000, 210992)"
      ]
     },
     "execution_count": 14,
     "metadata": {},
     "output_type": "execute_result"
    }
   ],
   "source": [
    "len(sample), len(data)"
   ]
  },
  {
   "cell_type": "code",
   "execution_count": 15,
   "id": "5611bae4",
   "metadata": {},
   "outputs": [],
   "source": [
    "feature_adder = NewFeatureTransformer(added_features, added_feature_names)\n",
    "sample = feature_adder.fit_transform(X=sample, y=sample[targets])"
   ]
  },
  {
   "cell_type": "code",
   "execution_count": 16,
   "id": "62a37c01",
   "metadata": {},
   "outputs": [
    {
     "data": {
      "text/plain": [
       "30000"
      ]
     },
     "execution_count": 16,
     "metadata": {},
     "output_type": "execute_result"
    }
   ],
   "source": [
    "len(sample)"
   ]
  },
  {
   "cell_type": "code",
   "execution_count": 17,
   "id": "22e87981",
   "metadata": {},
   "outputs": [
    {
     "data": {
      "text/plain": [
       "210992"
      ]
     },
     "execution_count": 17,
     "metadata": {},
     "output_type": "execute_result"
    }
   ],
   "source": [
    "len(data)"
   ]
  },
  {
   "cell_type": "code",
   "execution_count": 18,
   "id": "8e438021",
   "metadata": {},
   "outputs": [],
   "source": [
    "data.to_csv('train.csv', index=False)\n",
    "sample.to_csv('test.csv', index=False)"
   ]
  },
  {
   "cell_type": "code",
   "execution_count": 10,
   "id": "3a3a8f6d",
   "metadata": {},
   "outputs": [],
   "source": [
    "from sklearn.decomposition import PCA\n",
    "from sklearn.linear_model import LinearRegression\n",
    "from sklearn.pipeline import Pipeline\n",
    "from sklearn.preprocessing import OneHotEncoder\n",
    "\n",
    "pipeline = Pipeline(\n",
    "    [\n",
    "        (\"impute_date_time\", DateTimeImputer(dt_features.get('date'))),\n",
    "        (\"add_weekday/weekend\", WeekdayTransformer()),\n",
    "        (\"add_ToD_crime_level\", ToDTransformer(levels=config.get('levels'))),\n",
    "        (\"add_seasons\", SeasonTransformer(seasons=config.get('seasons'))),\n",
    "        (\"add_holidays\", HolidayTransformer(holidays=config.get('holidays'))),\n",
    "        (\"add_new_features\", NewFeatureTransformer(added_features, added_feature_names)),\n",
    "        (\"OHE\", OneHotEncoder(sparse=False)),\n",
    "        (\"PCA\", PCA(n_components=hyperparams.get('pca_n_components'), svd_solver=hyperparams.get('pca_svd_solver'))),\n",
    "        (\"linear_regression\", LinearRegression(normalize=hyperparams.get('lr_normalize'))),\n",
    "    ]\n",
    ")"
   ]
  },
  {
   "cell_type": "code",
   "execution_count": 11,
   "id": "d0824d5e",
   "metadata": {},
   "outputs": [
    {
     "data": {
      "text/plain": [
       "[('impute_date_time', DateTimeImputer(date_col='occurrencedate')),\n",
       " ('add_weekday/weekend', WeekdayTransformer()),\n",
       " ('add_ToD_crime_level',\n",
       "  ToDTransformer(levels={'high': [0, 12, 18, 21, 20, 22, 19, 23, 17, 15],\n",
       "                         'low': [4, 7, 5, 6],\n",
       "                         'med': [16, 14, 1, 2, 13, 11, 10, 9, 3, 8]})),\n",
       " ('add_seasons',\n",
       "  SeasonTransformer(seasons={'fall': [265, 353], 'spring': [78, 170],\n",
       "                             'summer': [171, 264], 'winter': [354, 77]})),\n",
       " ('add_holidays',\n",
       "  HolidayTransformer(holidays=[1, 46, 92, 144, 182, 249, 284, 359, 360])),\n",
       " ('add_new_features',\n",
       "  NewFeatureTransformer(feature_names=['Pub_Id', 'Park_Id', 'PS_Id'],\n",
       "                        features=[{'Pub_Id': [0, 1, 2, 3, 4, 5, 6, 7, 8, 9, 10,\n",
       "                                              11, 12, 13, 14, 15, 16, 17, 18, 19,\n",
       "                                              20, 21, 22, 23, 24, 25, 26, 27, 28,\n",
       "                                              29, ...],\n",
       "                                   'Pub_Lat': [43.646463999999995, 43.6661138,\n",
       "                                               43.6470917, 43.6476168, 43.665265,\n",
       "                                               43.660819, 43.654446199999995,\n",
       "                                               43.6543068, 43.648888899999996,\n",
       "                                               43.653706799999995, 43.6463951,\n",
       "                                               43.66295969999999...\n",
       "                                              43.694438999999996, 43.7509343],\n",
       "                                   'PS_Long': [-79.4004779, -79.3537618,\n",
       "                                               -79.3854838, -79.4366776,\n",
       "                                               -79.3172883, -79.28854009999999,\n",
       "                                               -79.3497412, -79.3893844,\n",
       "                                               -79.41790379999999,\n",
       "                                               -79.42569999999999,\n",
       "                                               -79.36257069999999,\n",
       "                                               -79.46051779999999, -79.3859727,\n",
       "                                               -79.2771722, -79.3606592,\n",
       "                                               -79.41527839999999, -79.4180042,\n",
       "                                               -79.26943159999999, -79.23992,\n",
       "                                               -79.5090896, -79.2688019,\n",
       "                                               -79.4870098, -79.2706525]}])),\n",
       " ('OHE', OneHotEncoder(sparse=False)),\n",
       " ('PCA', PCA(n_components=0.95, svd_solver='full')),\n",
       " ('linear_regression', LinearRegression(normalize=False))]"
      ]
     },
     "execution_count": 11,
     "metadata": {},
     "output_type": "execute_result"
    }
   ],
   "source": [
    "pipeline.steps"
   ]
  },
  {
   "cell_type": "code",
   "execution_count": 13,
   "id": "d35995fe",
   "metadata": {},
   "outputs": [
    {
     "data": {
      "text/plain": [
       "(Index(['X', 'Y', 'Index_', 'event_unique_id', 'Division', 'occurrencedate',\n",
       "        'reporteddate', 'location_type', 'premises_type', 'ucr_code', 'ucr_ext',\n",
       "        'offence', 'reportedyear', 'reportedmonth', 'reportedday',\n",
       "        'reporteddayofyear', 'reporteddayofweek', 'reportedhour',\n",
       "        'occurrenceyear', 'occurrencemonth', 'occurrenceday',\n",
       "        'occurrencedayofyear', 'occurrencedayofweek', 'occurrencehour', 'MCI',\n",
       "        'Hood_ID', 'Neighbourhood', 'Long', 'Lat', 'ObjectId', 'Pub_Id',\n",
       "        'Park_Id', 'PS_Id'],\n",
       "       dtype='object'),\n",
       " Index(['X', 'Y', 'Index_', 'event_unique_id', 'Division', 'occurrencedate',\n",
       "        'reporteddate', 'location_type', 'premises_type', 'ucr_code', 'ucr_ext',\n",
       "        'offence', 'reportedyear', 'reportedmonth', 'reportedday',\n",
       "        'reporteddayofyear', 'reporteddayofweek', 'reportedhour',\n",
       "        'occurrenceyear', 'occurrencemonth', 'occurrenceday',\n",
       "        'occurrencedayofyear', 'occurrencedayofweek', 'occurrencehour', 'MCI',\n",
       "        'Hood_ID', 'Neighbourhood', 'Long', 'Lat', 'ObjectId', 'Pub_Id',\n",
       "        'Park_Id', 'PS_Id'],\n",
       "       dtype='object'))"
      ]
     },
     "execution_count": 13,
     "metadata": {},
     "output_type": "execute_result"
    }
   ],
   "source": [
    "data.columns, sample.columns"
   ]
  },
  {
   "cell_type": "code",
   "execution_count": 12,
   "id": "27458d2c",
   "metadata": {},
   "outputs": [
    {
     "data": {
      "text/plain": [
       "['occurrencedate',\n",
       " 'occurrencehour',\n",
       " 'premises_type',\n",
       " 'occurrencemonth',\n",
       " 'occurrencedayofweek',\n",
       " 'MCI',\n",
       " 'Neighbourhood',\n",
       " 'occurrenceday',\n",
       " 'occurrencedayofyear',\n",
       " 'Pub_Id',\n",
       " 'Park_Id',\n",
       " 'PS_Id']"
      ]
     },
     "execution_count": 12,
     "metadata": {},
     "output_type": "execute_result"
    }
   ],
   "source": [
    "features + added_feature_names"
   ]
  },
  {
   "cell_type": "code",
   "execution_count": 14,
   "id": "f49a04f3",
   "metadata": {},
   "outputs": [
    {
     "name": "stderr",
     "output_type": "stream",
     "text": [
      "C:\\Users\\Moham\\Anaconda3\\envs\\myenv\\lib\\site-packages\\sklearn\\linear_model\\_base.py:148: FutureWarning: 'normalize' was deprecated in version 1.0 and will be removed in 1.2. Please leave the normalize parameter to its default value to silence this warning. The default behavior of this estimator is to not do any normalization. If normalization is needed please use sklearn.preprocessing.StandardScaler instead.\n",
      "  warnings.warn(\n"
     ]
    }
   ],
   "source": [
    "import joblib\n",
    "trained_pipeline = pipeline.fit(X=data[features+added_feature_names], y=data[targets])\n",
    "joblib.dump(trained_pipeline, 'train_pipeline')"
   ]
  },
  {
   "cell_type": "code",
   "execution_count": 17,
   "id": "daf0d061",
   "metadata": {},
   "outputs": [],
   "source": [
    "import copy\n",
    "inference_pipeline = copy.deepcopy(trained_pipeline)"
   ]
  },
  {
   "cell_type": "code",
   "execution_count": 22,
   "id": "757535a4",
   "metadata": {},
   "outputs": [
    {
     "data": {
      "text/plain": [
       "[('impute_date_time', DateTimeImputer(date_col='occurrencedate')),\n",
       " ('add_weekday/weekend', WeekdayTransformer()),\n",
       " ('add_ToD_crime_level',\n",
       "  ToDTransformer(levels={'high': [0, 12, 18, 21, 20, 22, 19, 23, 17, 15],\n",
       "                         'low': [4, 7, 5, 6],\n",
       "                         'med': [16, 14, 1, 2, 13, 11, 10, 9, 3, 8]})),\n",
       " ('add_seasons',\n",
       "  SeasonTransformer(seasons={'fall': [265, 353], 'spring': [78, 170],\n",
       "                             'summer': [171, 264], 'winter': [354, 77]})),\n",
       " ('add_holidays',\n",
       "  HolidayTransformer(holidays=[1, 46, 92, 144, 182, 249, 284, 359, 360])),\n",
       " ('OHE', OneHotEncoder(sparse=False)),\n",
       " ('PCA', PCA(n_components=0.95, svd_solver='full')),\n",
       " ('linear_regression', LinearRegression(normalize=False))]"
      ]
     },
     "execution_count": 22,
     "metadata": {},
     "output_type": "execute_result"
    }
   ],
   "source": [
    "# inference_pipeline.steps\n",
    "# inference_pipeline.steps.pop(5)"
   ]
  },
  {
   "cell_type": "code",
   "execution_count": 28,
   "id": "db80a440",
   "metadata": {},
   "outputs": [],
   "source": [
    "# inference_pipeline.score(sample[features+added_feature_names])"
   ]
  },
  {
   "cell_type": "code",
   "execution_count": 30,
   "id": "2baeb6d3",
   "metadata": {},
   "outputs": [],
   "source": [
    "preds = inference_pipeline.predict(sample[features+inference_features_to_add])"
   ]
  },
  {
   "cell_type": "code",
   "execution_count": 51,
   "id": "6a8ca92f",
   "metadata": {},
   "outputs": [
    {
     "data": {
      "text/plain": [
       "596.0503640163066"
      ]
     },
     "execution_count": 51,
     "metadata": {},
     "output_type": "execute_result"
    }
   ],
   "source": [
    "from sklearn.metrics import mean_squared_error\n",
    "mean_squared_error(sample[targets].values*111000, preds*111000)**0.5"
   ]
  },
  {
   "cell_type": "code",
   "execution_count": 44,
   "id": "96dc3535",
   "metadata": {},
   "outputs": [
    {
     "name": "stdout",
     "output_type": "stream",
     "text": [
      "(43.58628367393166, 43.83204760291888, -79.61490377957769, -79.138369358389)\n"
     ]
    }
   ],
   "source": [
    "print((min(preds[:, 0]), max(preds[:, 0]), min(preds[:, 1]), max(preds[:, 1])))\n"
   ]
  },
  {
   "cell_type": "markdown",
   "id": "e5f50a5f",
   "metadata": {},
   "source": [
    "#### Date Time Imputer "
   ]
  },
  {
   "cell_type": "code",
   "execution_count": 11,
   "id": "e0d8a870",
   "metadata": {},
   "outputs": [
    {
     "name": "stdout",
     "output_type": "stream",
     "text": [
      "[12, 'January', 'Sunday    ', 12, 10]\n"
     ]
    },
    {
     "data": {
      "text/plain": [
       "[12, 1, 6, 12, 5]"
      ]
     },
     "execution_count": 11,
     "metadata": {},
     "output_type": "execute_result"
    }
   ],
   "source": [
    "imputer = DateTimeImputer(date_features.get('date'))\n",
    "\n",
    "print(\n",
    "data[[\n",
    "        date_features.get('day_of_year'),\n",
    "        date_features.get('month'),\n",
    "        date_features.get('day_of_week'),\n",
    "        date_features.get('day_of_month'),\n",
    "        date_features.get('hour')\n",
    "        ]].iloc[10].to_list()\n",
    "     )\n",
    "\n",
    "test_object = imputer.fit_transform(data)\n",
    "\n",
    "test_object[[\n",
    "        date_features.get('day_of_year'),\n",
    "        date_features.get('month'),\n",
    "        date_features.get('day_of_week'),\n",
    "        date_features.get('day_of_month'),\n",
    "        date_features.get('hour')\n",
    "        ]].iloc[10].to_list()"
   ]
  },
  {
   "cell_type": "markdown",
   "id": "3b3f51a6",
   "metadata": {},
   "source": [
    "#### Feature Transformation"
   ]
  },
  {
   "cell_type": "markdown",
   "id": "29ecd559",
   "metadata": {},
   "source": [
    "Season Transformer"
   ]
  },
  {
   "cell_type": "code",
   "execution_count": 12,
   "id": "676e87dd",
   "metadata": {},
   "outputs": [
    {
     "name": "stdout",
     "output_type": "stream",
     "text": [
      "17\n",
      "Winter\n"
     ]
    }
   ],
   "source": [
    "transformer = SeasonTransformer(config.get('seasons'))\n",
    "print(data[dt_features.get('day_of_year')].iat[22])\n",
    "\n",
    "test_object = transformer.fit_transform(data)\n",
    "\n",
    "\n",
    "print(test_object[eng_features.get('season')].iat[22])"
   ]
  },
  {
   "cell_type": "code",
   "execution_count": 13,
   "id": "94b02e32",
   "metadata": {},
   "outputs": [
    {
     "name": "stdout",
     "output_type": "stream",
     "text": [
      "Tuesday\n",
      "weekday\n"
     ]
    }
   ],
   "source": [
    "transformer = WeekdayTransformer()\n",
    "\n",
    "print(data[dt_features.get('day_of_week')].iat[410].strip())\n",
    "test_object = transformer.fit_transform(data)\n",
    "print(test_object[eng_features.get('weekday')].iat[410])"
   ]
  },
  {
   "cell_type": "markdown",
   "id": "a5f7444e",
   "metadata": {},
   "source": [
    "ToD Transformer"
   ]
  },
  {
   "cell_type": "code",
   "execution_count": 14,
   "id": "2f091f20",
   "metadata": {},
   "outputs": [
    {
     "name": "stdout",
     "output_type": "stream",
     "text": [
      "6\n"
     ]
    },
    {
     "data": {
      "text/plain": [
       "'low'"
      ]
     },
     "execution_count": 14,
     "metadata": {},
     "output_type": "execute_result"
    }
   ],
   "source": [
    "transformer = ToDTransformer(config.get('levels'))\n",
    "\n",
    "# 0: 8, 'med'\n",
    "# 63: 23, 'high'\n",
    "# 152: 6, 'low'\n",
    "print(data[dt_features.get('hour')].iat[152])\n",
    "test_object = transformer.fit_transform(data)\n",
    "\n",
    "test_object[eng_features.get('ToD')].iat[152]"
   ]
  },
  {
   "cell_type": "markdown",
   "id": "43129859",
   "metadata": {},
   "source": [
    "Holiday Transformer"
   ]
  },
  {
   "cell_type": "code",
   "execution_count": 15,
   "id": "2ed99ef1",
   "metadata": {},
   "outputs": [
    {
     "name": "stdout",
     "output_type": "stream",
     "text": [
      "1301    True\n",
      "1324    True\n",
      "1406    True\n",
      "1408    True\n",
      "1409    True\n",
      "1699    True\n",
      "Name: Holiday, dtype: bool\n"
     ]
    }
   ],
   "source": [
    "transformer = HolidayTransformer(config.get('holidays'))\n",
    "\n",
    "id = data[data[dt_features.get('day_of_year')] == 359].iloc[0].event_unique_id\n",
    "test_object = transformer.fit_transform(data)\n",
    "\n",
    "# Then\n",
    "print(test_object[test_object['event_unique_id'] == id][eng_features.get('holiday')] == 'holiday')"
   ]
  },
  {
   "cell_type": "markdown",
   "id": "73027aa0",
   "metadata": {},
   "source": [
    "Added Feature Transformer"
   ]
  },
  {
   "cell_type": "code",
   "execution_count": 18,
   "id": "b9b96a4e",
   "metadata": {},
   "outputs": [],
   "source": [
    "added_feature_names = [eng_features.get('pub'),\n",
    "    eng_features.get('park'),\n",
    "    eng_features.get('police_station')]\n",
    "\n",
    "added_features = [json.load(open(f'manual_tests/{name}.json'))\n",
    "                            for name in added_feature_names]"
   ]
  },
  {
   "cell_type": "code",
   "execution_count": 17,
   "id": "db97fa66",
   "metadata": {},
   "outputs": [
    {
     "ename": "NameError",
     "evalue": "name 'added_features' is not defined",
     "output_type": "error",
     "traceback": [
      "\u001b[1;31m---------------------------------------------------------------------------\u001b[0m",
      "\u001b[1;31mNameError\u001b[0m                                 Traceback (most recent call last)",
      "Input \u001b[1;32mIn [17]\u001b[0m, in \u001b[0;36m<cell line: 1>\u001b[1;34m()\u001b[0m\n\u001b[1;32m----> 1\u001b[0m transformer \u001b[38;5;241m=\u001b[39m NewFeatureTransformer(\u001b[43madded_features\u001b[49m, added_feature_names)\n\u001b[0;32m      2\u001b[0m test_object \u001b[38;5;241m=\u001b[39m transformer\u001b[38;5;241m.\u001b[39mtransform(X\u001b[38;5;241m=\u001b[39mdata[:\u001b[38;5;241m10000\u001b[39m], y\u001b[38;5;241m=\u001b[39m data[[targets[\u001b[38;5;241m0\u001b[39m], targets[\u001b[38;5;241m1\u001b[39m]]][:\u001b[38;5;241m10000\u001b[39m])\n",
      "\u001b[1;31mNameError\u001b[0m: name 'added_features' is not defined"
     ]
    }
   ],
   "source": [
    "transformer = NewFeatureTransformer(added_features, added_feature_names)\n",
    "test_object = transformer.transform(X=data[:10000], y= data[[targets[0], targets[1]]][:10000])"
   ]
  }
 ],
 "metadata": {
  "kernelspec": {
   "display_name": "Python 3 (ipykernel)",
   "language": "python",
   "name": "python3"
  },
  "language_info": {
   "codemirror_mode": {
    "name": "ipython",
    "version": 3
   },
   "file_extension": ".py",
   "mimetype": "text/x-python",
   "name": "python",
   "nbconvert_exporter": "python",
   "pygments_lexer": "ipython3",
   "version": "3.10.4"
  }
 },
 "nbformat": 4,
 "nbformat_minor": 5
}
