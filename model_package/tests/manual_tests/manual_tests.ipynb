{
 "cells": [
  {
   "cell_type": "code",
   "execution_count": 1,
   "id": "1ba0df54",
   "metadata": {},
   "outputs": [],
   "source": [
    "import yaml\n",
    "import json\n",
    "import pandas as pd\n",
    "\n",
    "from transformers import *\n",
    "\n",
    "from load_data import load_dataset\n",
    "with open(\"config.yaml\", 'r') as stream:\n",
    "    config = yaml.safe_load(stream)\n",
    "    stream.close()"
   ]
  },
  {
   "cell_type": "code",
   "execution_count": 2,
   "id": "a0fa7376",
   "metadata": {},
   "outputs": [
    {
     "data": {
      "text/plain": [
       "{'package_name': 'mci_model',\n",
       " 'training_data_file': 'train.csv',\n",
       " 'test_data_file': 'test.csv',\n",
       " 'pipeline_name': 'mci_model',\n",
       " 'pipeline_save_file': 'mci_model_output_v',\n",
       " 'duplicate_record_key': 'event_unique_id',\n",
       " 'datetime_features': {'date': 'occurrencedate',\n",
       "  'day_of_year': 'occurrencedayofyear',\n",
       "  'month': 'occurrencemonth',\n",
       "  'day_of_week': 'occurrencedayofweek',\n",
       "  'day_of_month': 'occurrenceday',\n",
       "  'hour': 'occurrencehour'},\n",
       " 'features_na_not_allowed': ['Lat', 'Long', 'occurrencedate'],\n",
       " 'NSA_features': ['Division', 'Hood_ID', 'Neighbourhood'],\n",
       " 'engineered_features': {'season': 'Season',\n",
       "  'ToD': 'ToDCrimeLevel',\n",
       "  'holiday': 'Holiday',\n",
       "  'weekday': 'Weekday',\n",
       "  'pub': 'Pub_Id',\n",
       "  'park': 'Park_Id',\n",
       "  'police_station': 'PS_Id'},\n",
       " 'targets': ['Lat', 'Long'],\n",
       " 'train_features': ['occurrencedate',\n",
       "  'occurrencehour',\n",
       "  'premises_type',\n",
       "  'occurrencemonth',\n",
       "  'occurrencedayofweek',\n",
       "  'MCI',\n",
       "  'Neighbourhood',\n",
       "  'occurrenceday',\n",
       "  'occurrencedayofyear'],\n",
       " 'inference_features_to_add': ['Pub_Id', 'Park_Id', 'PS_Id'],\n",
       " 'test_size': 0.2,\n",
       " 'random_state': 0,\n",
       " 'holidays': [1, 46, 92, 144, 182, 249, 284, 359, 360],\n",
       " 'levels': {'high': [0, 12, 18, 21, 20, 22, 19, 23, 17, 15],\n",
       "  'med': [16, 14, 1, 2, 13, 11, 10, 9, 3, 8],\n",
       "  'low': [4, 7, 5, 6]},\n",
       " 'seasons': {'winter': [354, 77],\n",
       "  'spring': [78, 170],\n",
       "  'summer': [171, 264],\n",
       "  'fall': [265, 353]},\n",
       " 'hyperparams': {'pca_n_components': 0.95,\n",
       "  'pca_svd_solver': 'full',\n",
       "  'lr_normalize': False}}"
      ]
     },
     "execution_count": 2,
     "metadata": {},
     "output_type": "execute_result"
    }
   ],
   "source": [
    "config"
   ]
  },
  {
   "cell_type": "code",
   "execution_count": 3,
   "id": "99904b2c",
   "metadata": {},
   "outputs": [
    {
     "ename": "FileNotFoundError",
     "evalue": "[Errno 2] No such file or directory: '../test.csv'",
     "output_type": "error",
     "traceback": [
      "\u001b[1;31m---------------------------------------------------------------------------\u001b[0m",
      "\u001b[1;31mFileNotFoundError\u001b[0m                         Traceback (most recent call last)",
      "Input \u001b[1;32mIn [3]\u001b[0m, in \u001b[0;36m<cell line: 1>\u001b[1;34m()\u001b[0m\n\u001b[1;32m----> 1\u001b[0m data \u001b[38;5;241m=\u001b[39m \u001b[43mload_dataset\u001b[49m\u001b[43m(\u001b[49m\u001b[43mfile_name\u001b[49m\u001b[38;5;241;43m=\u001b[39;49m\u001b[38;5;124;43m'\u001b[39;49m\u001b[38;5;124;43m../test.csv\u001b[39;49m\u001b[38;5;124;43m'\u001b[39;49m\u001b[43m)\u001b[49m\n",
      "File \u001b[1;32m~\\Desktop\\Crime Location Prediction\\model_package\\tests\\manual_tests\\load_data.py:10\u001b[0m, in \u001b[0;36mload_dataset\u001b[1;34m(file_name, training)\u001b[0m\n\u001b[0;32m      9\u001b[0m \u001b[38;5;28;01mdef\u001b[39;00m \u001b[38;5;21mload_dataset\u001b[39m(\u001b[38;5;241m*\u001b[39m, file_name: \u001b[38;5;28mstr\u001b[39m, training: \u001b[38;5;28mbool\u001b[39m \u001b[38;5;241m=\u001b[39m \u001b[38;5;28;01mTrue\u001b[39;00m) \u001b[38;5;241m-\u001b[39m\u001b[38;5;241m>\u001b[39m pd\u001b[38;5;241m.\u001b[39mDataFrame:\n\u001b[1;32m---> 10\u001b[0m     data \u001b[38;5;241m=\u001b[39m \u001b[43mpd\u001b[49m\u001b[38;5;241;43m.\u001b[39;49m\u001b[43mread_csv\u001b[49m\u001b[43m(\u001b[49m\u001b[43mfile_name\u001b[49m\u001b[43m)\u001b[49m\n\u001b[0;32m     12\u001b[0m     \u001b[38;5;28;01mif\u001b[39;00m training:\n\u001b[0;32m     13\u001b[0m         inference_features_to_add \u001b[38;5;241m=\u001b[39m config\u001b[38;5;241m.\u001b[39mget(\u001b[38;5;124m'\u001b[39m\u001b[38;5;124minference_features_to_add\u001b[39m\u001b[38;5;124m'\u001b[39m)\n",
      "File \u001b[1;32m~\\Anaconda3\\envs\\myenv\\lib\\site-packages\\pandas\\util\\_decorators.py:311\u001b[0m, in \u001b[0;36mdeprecate_nonkeyword_arguments.<locals>.decorate.<locals>.wrapper\u001b[1;34m(*args, **kwargs)\u001b[0m\n\u001b[0;32m    305\u001b[0m \u001b[38;5;28;01mif\u001b[39;00m \u001b[38;5;28mlen\u001b[39m(args) \u001b[38;5;241m>\u001b[39m num_allow_args:\n\u001b[0;32m    306\u001b[0m     warnings\u001b[38;5;241m.\u001b[39mwarn(\n\u001b[0;32m    307\u001b[0m         msg\u001b[38;5;241m.\u001b[39mformat(arguments\u001b[38;5;241m=\u001b[39marguments),\n\u001b[0;32m    308\u001b[0m         \u001b[38;5;167;01mFutureWarning\u001b[39;00m,\n\u001b[0;32m    309\u001b[0m         stacklevel\u001b[38;5;241m=\u001b[39mstacklevel,\n\u001b[0;32m    310\u001b[0m     )\n\u001b[1;32m--> 311\u001b[0m \u001b[38;5;28;01mreturn\u001b[39;00m func(\u001b[38;5;241m*\u001b[39margs, \u001b[38;5;241m*\u001b[39m\u001b[38;5;241m*\u001b[39mkwargs)\n",
      "File \u001b[1;32m~\\Anaconda3\\envs\\myenv\\lib\\site-packages\\pandas\\io\\parsers\\readers.py:680\u001b[0m, in \u001b[0;36mread_csv\u001b[1;34m(filepath_or_buffer, sep, delimiter, header, names, index_col, usecols, squeeze, prefix, mangle_dupe_cols, dtype, engine, converters, true_values, false_values, skipinitialspace, skiprows, skipfooter, nrows, na_values, keep_default_na, na_filter, verbose, skip_blank_lines, parse_dates, infer_datetime_format, keep_date_col, date_parser, dayfirst, cache_dates, iterator, chunksize, compression, thousands, decimal, lineterminator, quotechar, quoting, doublequote, escapechar, comment, encoding, encoding_errors, dialect, error_bad_lines, warn_bad_lines, on_bad_lines, delim_whitespace, low_memory, memory_map, float_precision, storage_options)\u001b[0m\n\u001b[0;32m    665\u001b[0m kwds_defaults \u001b[38;5;241m=\u001b[39m _refine_defaults_read(\n\u001b[0;32m    666\u001b[0m     dialect,\n\u001b[0;32m    667\u001b[0m     delimiter,\n\u001b[1;32m   (...)\u001b[0m\n\u001b[0;32m    676\u001b[0m     defaults\u001b[38;5;241m=\u001b[39m{\u001b[38;5;124m\"\u001b[39m\u001b[38;5;124mdelimiter\u001b[39m\u001b[38;5;124m\"\u001b[39m: \u001b[38;5;124m\"\u001b[39m\u001b[38;5;124m,\u001b[39m\u001b[38;5;124m\"\u001b[39m},\n\u001b[0;32m    677\u001b[0m )\n\u001b[0;32m    678\u001b[0m kwds\u001b[38;5;241m.\u001b[39mupdate(kwds_defaults)\n\u001b[1;32m--> 680\u001b[0m \u001b[38;5;28;01mreturn\u001b[39;00m \u001b[43m_read\u001b[49m\u001b[43m(\u001b[49m\u001b[43mfilepath_or_buffer\u001b[49m\u001b[43m,\u001b[49m\u001b[43m \u001b[49m\u001b[43mkwds\u001b[49m\u001b[43m)\u001b[49m\n",
      "File \u001b[1;32m~\\Anaconda3\\envs\\myenv\\lib\\site-packages\\pandas\\io\\parsers\\readers.py:575\u001b[0m, in \u001b[0;36m_read\u001b[1;34m(filepath_or_buffer, kwds)\u001b[0m\n\u001b[0;32m    572\u001b[0m _validate_names(kwds\u001b[38;5;241m.\u001b[39mget(\u001b[38;5;124m\"\u001b[39m\u001b[38;5;124mnames\u001b[39m\u001b[38;5;124m\"\u001b[39m, \u001b[38;5;28;01mNone\u001b[39;00m))\n\u001b[0;32m    574\u001b[0m \u001b[38;5;66;03m# Create the parser.\u001b[39;00m\n\u001b[1;32m--> 575\u001b[0m parser \u001b[38;5;241m=\u001b[39m TextFileReader(filepath_or_buffer, \u001b[38;5;241m*\u001b[39m\u001b[38;5;241m*\u001b[39mkwds)\n\u001b[0;32m    577\u001b[0m \u001b[38;5;28;01mif\u001b[39;00m chunksize \u001b[38;5;129;01mor\u001b[39;00m iterator:\n\u001b[0;32m    578\u001b[0m     \u001b[38;5;28;01mreturn\u001b[39;00m parser\n",
      "File \u001b[1;32m~\\Anaconda3\\envs\\myenv\\lib\\site-packages\\pandas\\io\\parsers\\readers.py:933\u001b[0m, in \u001b[0;36mTextFileReader.__init__\u001b[1;34m(self, f, engine, **kwds)\u001b[0m\n\u001b[0;32m    930\u001b[0m     \u001b[38;5;28mself\u001b[39m\u001b[38;5;241m.\u001b[39moptions[\u001b[38;5;124m\"\u001b[39m\u001b[38;5;124mhas_index_names\u001b[39m\u001b[38;5;124m\"\u001b[39m] \u001b[38;5;241m=\u001b[39m kwds[\u001b[38;5;124m\"\u001b[39m\u001b[38;5;124mhas_index_names\u001b[39m\u001b[38;5;124m\"\u001b[39m]\n\u001b[0;32m    932\u001b[0m \u001b[38;5;28mself\u001b[39m\u001b[38;5;241m.\u001b[39mhandles: IOHandles \u001b[38;5;241m|\u001b[39m \u001b[38;5;28;01mNone\u001b[39;00m \u001b[38;5;241m=\u001b[39m \u001b[38;5;28;01mNone\u001b[39;00m\n\u001b[1;32m--> 933\u001b[0m \u001b[38;5;28mself\u001b[39m\u001b[38;5;241m.\u001b[39m_engine \u001b[38;5;241m=\u001b[39m \u001b[38;5;28;43mself\u001b[39;49m\u001b[38;5;241;43m.\u001b[39;49m\u001b[43m_make_engine\u001b[49m\u001b[43m(\u001b[49m\u001b[43mf\u001b[49m\u001b[43m,\u001b[49m\u001b[43m \u001b[49m\u001b[38;5;28;43mself\u001b[39;49m\u001b[38;5;241;43m.\u001b[39;49m\u001b[43mengine\u001b[49m\u001b[43m)\u001b[49m\n",
      "File \u001b[1;32m~\\Anaconda3\\envs\\myenv\\lib\\site-packages\\pandas\\io\\parsers\\readers.py:1217\u001b[0m, in \u001b[0;36mTextFileReader._make_engine\u001b[1;34m(self, f, engine)\u001b[0m\n\u001b[0;32m   1213\u001b[0m     mode \u001b[38;5;241m=\u001b[39m \u001b[38;5;124m\"\u001b[39m\u001b[38;5;124mrb\u001b[39m\u001b[38;5;124m\"\u001b[39m\n\u001b[0;32m   1214\u001b[0m \u001b[38;5;66;03m# error: No overload variant of \"get_handle\" matches argument types\u001b[39;00m\n\u001b[0;32m   1215\u001b[0m \u001b[38;5;66;03m# \"Union[str, PathLike[str], ReadCsvBuffer[bytes], ReadCsvBuffer[str]]\"\u001b[39;00m\n\u001b[0;32m   1216\u001b[0m \u001b[38;5;66;03m# , \"str\", \"bool\", \"Any\", \"Any\", \"Any\", \"Any\", \"Any\"\u001b[39;00m\n\u001b[1;32m-> 1217\u001b[0m \u001b[38;5;28mself\u001b[39m\u001b[38;5;241m.\u001b[39mhandles \u001b[38;5;241m=\u001b[39m \u001b[43mget_handle\u001b[49m\u001b[43m(\u001b[49m\u001b[43m  \u001b[49m\u001b[38;5;66;43;03m# type: ignore[call-overload]\u001b[39;49;00m\n\u001b[0;32m   1218\u001b[0m \u001b[43m    \u001b[49m\u001b[43mf\u001b[49m\u001b[43m,\u001b[49m\n\u001b[0;32m   1219\u001b[0m \u001b[43m    \u001b[49m\u001b[43mmode\u001b[49m\u001b[43m,\u001b[49m\n\u001b[0;32m   1220\u001b[0m \u001b[43m    \u001b[49m\u001b[43mencoding\u001b[49m\u001b[38;5;241;43m=\u001b[39;49m\u001b[38;5;28;43mself\u001b[39;49m\u001b[38;5;241;43m.\u001b[39;49m\u001b[43moptions\u001b[49m\u001b[38;5;241;43m.\u001b[39;49m\u001b[43mget\u001b[49m\u001b[43m(\u001b[49m\u001b[38;5;124;43m\"\u001b[39;49m\u001b[38;5;124;43mencoding\u001b[39;49m\u001b[38;5;124;43m\"\u001b[39;49m\u001b[43m,\u001b[49m\u001b[43m \u001b[49m\u001b[38;5;28;43;01mNone\u001b[39;49;00m\u001b[43m)\u001b[49m\u001b[43m,\u001b[49m\n\u001b[0;32m   1221\u001b[0m \u001b[43m    \u001b[49m\u001b[43mcompression\u001b[49m\u001b[38;5;241;43m=\u001b[39;49m\u001b[38;5;28;43mself\u001b[39;49m\u001b[38;5;241;43m.\u001b[39;49m\u001b[43moptions\u001b[49m\u001b[38;5;241;43m.\u001b[39;49m\u001b[43mget\u001b[49m\u001b[43m(\u001b[49m\u001b[38;5;124;43m\"\u001b[39;49m\u001b[38;5;124;43mcompression\u001b[39;49m\u001b[38;5;124;43m\"\u001b[39;49m\u001b[43m,\u001b[49m\u001b[43m \u001b[49m\u001b[38;5;28;43;01mNone\u001b[39;49;00m\u001b[43m)\u001b[49m\u001b[43m,\u001b[49m\n\u001b[0;32m   1222\u001b[0m \u001b[43m    \u001b[49m\u001b[43mmemory_map\u001b[49m\u001b[38;5;241;43m=\u001b[39;49m\u001b[38;5;28;43mself\u001b[39;49m\u001b[38;5;241;43m.\u001b[39;49m\u001b[43moptions\u001b[49m\u001b[38;5;241;43m.\u001b[39;49m\u001b[43mget\u001b[49m\u001b[43m(\u001b[49m\u001b[38;5;124;43m\"\u001b[39;49m\u001b[38;5;124;43mmemory_map\u001b[39;49m\u001b[38;5;124;43m\"\u001b[39;49m\u001b[43m,\u001b[49m\u001b[43m \u001b[49m\u001b[38;5;28;43;01mFalse\u001b[39;49;00m\u001b[43m)\u001b[49m\u001b[43m,\u001b[49m\n\u001b[0;32m   1223\u001b[0m \u001b[43m    \u001b[49m\u001b[43mis_text\u001b[49m\u001b[38;5;241;43m=\u001b[39;49m\u001b[43mis_text\u001b[49m\u001b[43m,\u001b[49m\n\u001b[0;32m   1224\u001b[0m \u001b[43m    \u001b[49m\u001b[43merrors\u001b[49m\u001b[38;5;241;43m=\u001b[39;49m\u001b[38;5;28;43mself\u001b[39;49m\u001b[38;5;241;43m.\u001b[39;49m\u001b[43moptions\u001b[49m\u001b[38;5;241;43m.\u001b[39;49m\u001b[43mget\u001b[49m\u001b[43m(\u001b[49m\u001b[38;5;124;43m\"\u001b[39;49m\u001b[38;5;124;43mencoding_errors\u001b[39;49m\u001b[38;5;124;43m\"\u001b[39;49m\u001b[43m,\u001b[49m\u001b[43m \u001b[49m\u001b[38;5;124;43m\"\u001b[39;49m\u001b[38;5;124;43mstrict\u001b[39;49m\u001b[38;5;124;43m\"\u001b[39;49m\u001b[43m)\u001b[49m\u001b[43m,\u001b[49m\n\u001b[0;32m   1225\u001b[0m \u001b[43m    \u001b[49m\u001b[43mstorage_options\u001b[49m\u001b[38;5;241;43m=\u001b[39;49m\u001b[38;5;28;43mself\u001b[39;49m\u001b[38;5;241;43m.\u001b[39;49m\u001b[43moptions\u001b[49m\u001b[38;5;241;43m.\u001b[39;49m\u001b[43mget\u001b[49m\u001b[43m(\u001b[49m\u001b[38;5;124;43m\"\u001b[39;49m\u001b[38;5;124;43mstorage_options\u001b[39;49m\u001b[38;5;124;43m\"\u001b[39;49m\u001b[43m,\u001b[49m\u001b[43m \u001b[49m\u001b[38;5;28;43;01mNone\u001b[39;49;00m\u001b[43m)\u001b[49m\u001b[43m,\u001b[49m\n\u001b[0;32m   1226\u001b[0m \u001b[43m\u001b[49m\u001b[43m)\u001b[49m\n\u001b[0;32m   1227\u001b[0m \u001b[38;5;28;01massert\u001b[39;00m \u001b[38;5;28mself\u001b[39m\u001b[38;5;241m.\u001b[39mhandles \u001b[38;5;129;01mis\u001b[39;00m \u001b[38;5;129;01mnot\u001b[39;00m \u001b[38;5;28;01mNone\u001b[39;00m\n\u001b[0;32m   1228\u001b[0m f \u001b[38;5;241m=\u001b[39m \u001b[38;5;28mself\u001b[39m\u001b[38;5;241m.\u001b[39mhandles\u001b[38;5;241m.\u001b[39mhandle\n",
      "File \u001b[1;32m~\\Anaconda3\\envs\\myenv\\lib\\site-packages\\pandas\\io\\common.py:789\u001b[0m, in \u001b[0;36mget_handle\u001b[1;34m(path_or_buf, mode, encoding, compression, memory_map, is_text, errors, storage_options)\u001b[0m\n\u001b[0;32m    784\u001b[0m \u001b[38;5;28;01melif\u001b[39;00m \u001b[38;5;28misinstance\u001b[39m(handle, \u001b[38;5;28mstr\u001b[39m):\n\u001b[0;32m    785\u001b[0m     \u001b[38;5;66;03m# Check whether the filename is to be opened in binary mode.\u001b[39;00m\n\u001b[0;32m    786\u001b[0m     \u001b[38;5;66;03m# Binary mode does not support 'encoding' and 'newline'.\u001b[39;00m\n\u001b[0;32m    787\u001b[0m     \u001b[38;5;28;01mif\u001b[39;00m ioargs\u001b[38;5;241m.\u001b[39mencoding \u001b[38;5;129;01mand\u001b[39;00m \u001b[38;5;124m\"\u001b[39m\u001b[38;5;124mb\u001b[39m\u001b[38;5;124m\"\u001b[39m \u001b[38;5;129;01mnot\u001b[39;00m \u001b[38;5;129;01min\u001b[39;00m ioargs\u001b[38;5;241m.\u001b[39mmode:\n\u001b[0;32m    788\u001b[0m         \u001b[38;5;66;03m# Encoding\u001b[39;00m\n\u001b[1;32m--> 789\u001b[0m         handle \u001b[38;5;241m=\u001b[39m \u001b[38;5;28;43mopen\u001b[39;49m\u001b[43m(\u001b[49m\n\u001b[0;32m    790\u001b[0m \u001b[43m            \u001b[49m\u001b[43mhandle\u001b[49m\u001b[43m,\u001b[49m\n\u001b[0;32m    791\u001b[0m \u001b[43m            \u001b[49m\u001b[43mioargs\u001b[49m\u001b[38;5;241;43m.\u001b[39;49m\u001b[43mmode\u001b[49m\u001b[43m,\u001b[49m\n\u001b[0;32m    792\u001b[0m \u001b[43m            \u001b[49m\u001b[43mencoding\u001b[49m\u001b[38;5;241;43m=\u001b[39;49m\u001b[43mioargs\u001b[49m\u001b[38;5;241;43m.\u001b[39;49m\u001b[43mencoding\u001b[49m\u001b[43m,\u001b[49m\n\u001b[0;32m    793\u001b[0m \u001b[43m            \u001b[49m\u001b[43merrors\u001b[49m\u001b[38;5;241;43m=\u001b[39;49m\u001b[43merrors\u001b[49m\u001b[43m,\u001b[49m\n\u001b[0;32m    794\u001b[0m \u001b[43m            \u001b[49m\u001b[43mnewline\u001b[49m\u001b[38;5;241;43m=\u001b[39;49m\u001b[38;5;124;43m\"\u001b[39;49m\u001b[38;5;124;43m\"\u001b[39;49m\u001b[43m,\u001b[49m\n\u001b[0;32m    795\u001b[0m \u001b[43m        \u001b[49m\u001b[43m)\u001b[49m\n\u001b[0;32m    796\u001b[0m     \u001b[38;5;28;01melse\u001b[39;00m:\n\u001b[0;32m    797\u001b[0m         \u001b[38;5;66;03m# Binary mode\u001b[39;00m\n\u001b[0;32m    798\u001b[0m         handle \u001b[38;5;241m=\u001b[39m \u001b[38;5;28mopen\u001b[39m(handle, ioargs\u001b[38;5;241m.\u001b[39mmode)\n",
      "\u001b[1;31mFileNotFoundError\u001b[0m: [Errno 2] No such file or directory: '../test.csv'"
     ]
    }
   ],
   "source": [
    "data = load_dataset(file_name='../test.csv')"
   ]
  },
  {
   "cell_type": "markdown",
   "id": "36564542",
   "metadata": {},
   "source": [
    "#### Date Time Imputer "
   ]
  },
  {
   "cell_type": "code",
   "execution_count": 4,
   "id": "a19abb3e",
   "metadata": {},
   "outputs": [
    {
     "data": {
      "text/plain": [
       "{'date': 'occurrencedate',\n",
       " 'day_of_year': 'occurrencedayofyear',\n",
       " 'month': 'occurrencemonth',\n",
       " 'day_of_week': 'occurrencedayofweek',\n",
       " 'day_of_month': 'occurrenceday',\n",
       " 'hour': 'occurrencehour'}"
      ]
     },
     "execution_count": 4,
     "metadata": {},
     "output_type": "execute_result"
    }
   ],
   "source": [
    "date_features = config.get('datetime_features')\n",
    "date_features"
   ]
  },
  {
   "cell_type": "code",
   "execution_count": 5,
   "id": "39f3670c",
   "metadata": {},
   "outputs": [
    {
     "data": {
      "text/plain": [
       "30000"
      ]
     },
     "execution_count": 5,
     "metadata": {},
     "output_type": "execute_result"
    }
   ],
   "source": [
    "len(data)"
   ]
  },
  {
   "cell_type": "code",
   "execution_count": 6,
   "id": "aed6387d",
   "metadata": {},
   "outputs": [
    {
     "name": "stdout",
     "output_type": "stream",
     "text": [
      "[14, 'January', 'Saturday  ', 14]\n"
     ]
    },
    {
     "data": {
      "text/plain": [
       "[14, 1, 5, 14]"
      ]
     },
     "execution_count": 6,
     "metadata": {},
     "output_type": "execute_result"
    }
   ],
   "source": [
    "imputer = DateTimeImputer(date_features.get('date'))\n",
    "\n",
    "print(\n",
    "data[[\n",
    "        date_features.get('day_of_year'),\n",
    "        date_features.get('month'),\n",
    "        date_features.get('day_of_week'),\n",
    "        date_features.get('day_of_month')\n",
    "        ]].iloc[10].to_list()\n",
    "     )\n",
    "\n",
    "test_object = imputer.fit_transform(data)\n",
    "\n",
    "test_object[[\n",
    "        date_features.get('day_of_year'),\n",
    "        date_features.get('month'),\n",
    "        date_features.get('day_of_week'),\n",
    "        date_features.get('day_of_month')\n",
    "        ]].iloc[10].to_list()"
   ]
  },
  {
   "cell_type": "code",
   "execution_count": 27,
   "id": "af5ffaa9",
   "metadata": {},
   "outputs": [
    {
     "data": {
      "text/html": [
       "<div>\n",
       "<style scoped>\n",
       "    .dataframe tbody tr th:only-of-type {\n",
       "        vertical-align: middle;\n",
       "    }\n",
       "\n",
       "    .dataframe tbody tr th {\n",
       "        vertical-align: top;\n",
       "    }\n",
       "\n",
       "    .dataframe thead th {\n",
       "        text-align: right;\n",
       "    }\n",
       "</style>\n",
       "<table border=\"1\" class=\"dataframe\">\n",
       "  <thead>\n",
       "    <tr style=\"text-align: right;\">\n",
       "      <th></th>\n",
       "      <th>occurrencedate</th>\n",
       "      <th>occurrencehour</th>\n",
       "      <th>premises_type</th>\n",
       "      <th>occurrencemonth</th>\n",
       "      <th>occurrencedayofweek</th>\n",
       "      <th>MCI</th>\n",
       "      <th>Neighbourhood</th>\n",
       "      <th>occurrenceday</th>\n",
       "      <th>occurrencedayofyear</th>\n",
       "      <th>Pub_Id</th>\n",
       "      <th>Park_Id</th>\n",
       "      <th>PS_Id</th>\n",
       "      <th>Lat</th>\n",
       "      <th>Long</th>\n",
       "    </tr>\n",
       "  </thead>\n",
       "  <tbody>\n",
       "    <tr>\n",
       "      <th>0</th>\n",
       "      <td>2014/03/02 05:00:00+00</td>\n",
       "      <td>8</td>\n",
       "      <td>House</td>\n",
       "      <td>March</td>\n",
       "      <td>Sunday</td>\n",
       "      <td>Assault</td>\n",
       "      <td>West Humber-Clairville</td>\n",
       "      <td>2</td>\n",
       "      <td>61</td>\n",
       "      <td>0</td>\n",
       "      <td>0</td>\n",
       "      <td>0</td>\n",
       "      <td>43.734013</td>\n",
       "      <td>-79.590332</td>\n",
       "    </tr>\n",
       "    <tr>\n",
       "      <th>1</th>\n",
       "      <td>2013/12/24 05:00:00+00</td>\n",
       "      <td>22</td>\n",
       "      <td>Commercial</td>\n",
       "      <td>December</td>\n",
       "      <td>Tuesday</td>\n",
       "      <td>Robbery</td>\n",
       "      <td>West Humber-Clairville</td>\n",
       "      <td>24</td>\n",
       "      <td>358</td>\n",
       "      <td>0</td>\n",
       "      <td>0</td>\n",
       "      <td>0</td>\n",
       "      <td>43.731834</td>\n",
       "      <td>-79.600701</td>\n",
       "    </tr>\n",
       "    <tr>\n",
       "      <th>2</th>\n",
       "      <td>2013/01/05 05:00:00+00</td>\n",
       "      <td>4</td>\n",
       "      <td>Commercial</td>\n",
       "      <td>January</td>\n",
       "      <td>Saturday</td>\n",
       "      <td>Assault</td>\n",
       "      <td>West Humber-Clairville</td>\n",
       "      <td>5</td>\n",
       "      <td>5</td>\n",
       "      <td>0</td>\n",
       "      <td>0</td>\n",
       "      <td>0</td>\n",
       "      <td>43.686423</td>\n",
       "      <td>-79.600794</td>\n",
       "    </tr>\n",
       "    <tr>\n",
       "      <th>3</th>\n",
       "      <td>2013/12/31 05:00:00+00</td>\n",
       "      <td>21</td>\n",
       "      <td>Commercial</td>\n",
       "      <td>December</td>\n",
       "      <td>Tuesday</td>\n",
       "      <td>Break and Enter</td>\n",
       "      <td>West Humber-Clairville</td>\n",
       "      <td>31</td>\n",
       "      <td>365</td>\n",
       "      <td>0</td>\n",
       "      <td>0</td>\n",
       "      <td>0</td>\n",
       "      <td>43.743642</td>\n",
       "      <td>-79.603876</td>\n",
       "    </tr>\n",
       "    <tr>\n",
       "      <th>4</th>\n",
       "      <td>2014/01/08 05:00:00+00</td>\n",
       "      <td>2</td>\n",
       "      <td>Commercial</td>\n",
       "      <td>January</td>\n",
       "      <td>Wednesday</td>\n",
       "      <td>Theft Over</td>\n",
       "      <td>West Humber-Clairville</td>\n",
       "      <td>8</td>\n",
       "      <td>8</td>\n",
       "      <td>0</td>\n",
       "      <td>0</td>\n",
       "      <td>0</td>\n",
       "      <td>43.678342</td>\n",
       "      <td>-79.584931</td>\n",
       "    </tr>\n",
       "    <tr>\n",
       "      <th>...</th>\n",
       "      <td>...</td>\n",
       "      <td>...</td>\n",
       "      <td>...</td>\n",
       "      <td>...</td>\n",
       "      <td>...</td>\n",
       "      <td>...</td>\n",
       "      <td>...</td>\n",
       "      <td>...</td>\n",
       "      <td>...</td>\n",
       "      <td>...</td>\n",
       "      <td>...</td>\n",
       "      <td>...</td>\n",
       "      <td>...</td>\n",
       "      <td>...</td>\n",
       "    </tr>\n",
       "    <tr>\n",
       "      <th>210987</th>\n",
       "      <td>2021/07/26 04:00:00+00</td>\n",
       "      <td>2</td>\n",
       "      <td>House</td>\n",
       "      <td>July</td>\n",
       "      <td>Monday</td>\n",
       "      <td>Auto Theft</td>\n",
       "      <td>Guildwood</td>\n",
       "      <td>26</td>\n",
       "      <td>207</td>\n",
       "      <td>0</td>\n",
       "      <td>0</td>\n",
       "      <td>0</td>\n",
       "      <td>43.744706</td>\n",
       "      <td>-79.203014</td>\n",
       "    </tr>\n",
       "    <tr>\n",
       "      <th>210988</th>\n",
       "      <td>2021/07/28 04:00:00+00</td>\n",
       "      <td>20</td>\n",
       "      <td>Outside</td>\n",
       "      <td>July</td>\n",
       "      <td>Wednesday</td>\n",
       "      <td>Auto Theft</td>\n",
       "      <td>Guildwood</td>\n",
       "      <td>28</td>\n",
       "      <td>209</td>\n",
       "      <td>0</td>\n",
       "      <td>0</td>\n",
       "      <td>0</td>\n",
       "      <td>43.744342</td>\n",
       "      <td>-79.197893</td>\n",
       "    </tr>\n",
       "    <tr>\n",
       "      <th>210989</th>\n",
       "      <td>2021/09/27 04:00:00+00</td>\n",
       "      <td>21</td>\n",
       "      <td>House</td>\n",
       "      <td>September</td>\n",
       "      <td>Monday</td>\n",
       "      <td>Auto Theft</td>\n",
       "      <td>Guildwood</td>\n",
       "      <td>27</td>\n",
       "      <td>270</td>\n",
       "      <td>0</td>\n",
       "      <td>0</td>\n",
       "      <td>0</td>\n",
       "      <td>43.756244</td>\n",
       "      <td>-79.178803</td>\n",
       "    </tr>\n",
       "    <tr>\n",
       "      <th>210990</th>\n",
       "      <td>2021/11/03 04:00:00+00</td>\n",
       "      <td>16</td>\n",
       "      <td>House</td>\n",
       "      <td>November</td>\n",
       "      <td>Wednesday</td>\n",
       "      <td>Auto Theft</td>\n",
       "      <td>Guildwood</td>\n",
       "      <td>3</td>\n",
       "      <td>307</td>\n",
       "      <td>0</td>\n",
       "      <td>0</td>\n",
       "      <td>0</td>\n",
       "      <td>43.744706</td>\n",
       "      <td>-79.203014</td>\n",
       "    </tr>\n",
       "    <tr>\n",
       "      <th>210991</th>\n",
       "      <td>2021/11/19 05:00:00+00</td>\n",
       "      <td>10</td>\n",
       "      <td>Commercial</td>\n",
       "      <td>November</td>\n",
       "      <td>Friday</td>\n",
       "      <td>Auto Theft</td>\n",
       "      <td>Guildwood</td>\n",
       "      <td>19</td>\n",
       "      <td>323</td>\n",
       "      <td>0</td>\n",
       "      <td>0</td>\n",
       "      <td>0</td>\n",
       "      <td>43.751335</td>\n",
       "      <td>-79.200844</td>\n",
       "    </tr>\n",
       "  </tbody>\n",
       "</table>\n",
       "<p>210992 rows × 14 columns</p>\n",
       "</div>"
      ],
      "text/plain": [
       "                occurrencedate  occurrencehour premises_type occurrencemonth  \\\n",
       "0       2014/03/02 05:00:00+00               8         House           March   \n",
       "1       2013/12/24 05:00:00+00              22    Commercial        December   \n",
       "2       2013/01/05 05:00:00+00               4    Commercial         January   \n",
       "3       2013/12/31 05:00:00+00              21    Commercial        December   \n",
       "4       2014/01/08 05:00:00+00               2    Commercial         January   \n",
       "...                        ...             ...           ...             ...   \n",
       "210987  2021/07/26 04:00:00+00               2         House            July   \n",
       "210988  2021/07/28 04:00:00+00              20       Outside            July   \n",
       "210989  2021/09/27 04:00:00+00              21         House       September   \n",
       "210990  2021/11/03 04:00:00+00              16         House        November   \n",
       "210991  2021/11/19 05:00:00+00              10    Commercial        November   \n",
       "\n",
       "       occurrencedayofweek              MCI           Neighbourhood  \\\n",
       "0               Sunday              Assault  West Humber-Clairville   \n",
       "1               Tuesday             Robbery  West Humber-Clairville   \n",
       "2               Saturday            Assault  West Humber-Clairville   \n",
       "3               Tuesday     Break and Enter  West Humber-Clairville   \n",
       "4               Wednesday        Theft Over  West Humber-Clairville   \n",
       "...                    ...              ...                     ...   \n",
       "210987          Monday           Auto Theft               Guildwood   \n",
       "210988          Wednesday        Auto Theft               Guildwood   \n",
       "210989          Monday           Auto Theft               Guildwood   \n",
       "210990          Wednesday        Auto Theft               Guildwood   \n",
       "210991          Friday           Auto Theft               Guildwood   \n",
       "\n",
       "        occurrenceday  occurrencedayofyear  Pub_Id  Park_Id  PS_Id        Lat  \\\n",
       "0                   2                   61       0        0      0  43.734013   \n",
       "1                  24                  358       0        0      0  43.731834   \n",
       "2                   5                    5       0        0      0  43.686423   \n",
       "3                  31                  365       0        0      0  43.743642   \n",
       "4                   8                    8       0        0      0  43.678342   \n",
       "...               ...                  ...     ...      ...    ...        ...   \n",
       "210987             26                  207       0        0      0  43.744706   \n",
       "210988             28                  209       0        0      0  43.744342   \n",
       "210989             27                  270       0        0      0  43.756244   \n",
       "210990              3                  307       0        0      0  43.744706   \n",
       "210991             19                  323       0        0      0  43.751335   \n",
       "\n",
       "             Long  \n",
       "0      -79.590332  \n",
       "1      -79.600701  \n",
       "2      -79.600794  \n",
       "3      -79.603876  \n",
       "4      -79.584931  \n",
       "...           ...  \n",
       "210987 -79.203014  \n",
       "210988 -79.197893  \n",
       "210989 -79.178803  \n",
       "210990 -79.203014  \n",
       "210991 -79.200844  \n",
       "\n",
       "[210992 rows x 14 columns]"
      ]
     },
     "execution_count": 27,
     "metadata": {},
     "output_type": "execute_result"
    }
   ],
   "source": [
    "data"
   ]
  },
  {
   "cell_type": "markdown",
   "id": "78145721",
   "metadata": {},
   "source": [
    "#### Feature Transformation"
   ]
  },
  {
   "cell_type": "code",
   "execution_count": 50,
   "id": "2f750788",
   "metadata": {},
   "outputs": [
    {
     "data": {
      "text/plain": [
       "{'season': 'Season',\n",
       " 'ToD': 'ToDCrimeLevel',\n",
       " 'holiday': 'Holiday',\n",
       " 'weekday': 'Weekday',\n",
       " 'pub': 'Pub_Id',\n",
       " 'park': 'Park_Id',\n",
       " 'police_station': 'PS_Id'}"
      ]
     },
     "execution_count": 50,
     "metadata": {},
     "output_type": "execute_result"
    }
   ],
   "source": [
    "eng_features = config.get('engineered_features')\n",
    "eng_features"
   ]
  },
  {
   "cell_type": "markdown",
   "id": "aa94f07b",
   "metadata": {},
   "source": [
    "Season Transformer"
   ]
  },
  {
   "cell_type": "code",
   "execution_count": 8,
   "id": "6e5f32cc",
   "metadata": {},
   "outputs": [],
   "source": [
    "dt_features = date_features.copy()"
   ]
  },
  {
   "cell_type": "code",
   "execution_count": 19,
   "id": "a530eb8e",
   "metadata": {},
   "outputs": [
    {
     "name": "stdout",
     "output_type": "stream",
     "text": [
      "161\n",
      "Spring\n"
     ]
    }
   ],
   "source": [
    "transformer = SeasonTransformer(config.get('seasons'))\n",
    "imputer = DateTimeImputer(date_features.get('date'))\n",
    "data = imputer.transform(data)\n",
    "\n",
    "val = 200\n",
    "print(data[dt_features.get('day_of_year')].iat[val])\n",
    "\n",
    "test_object = transformer.fit_transform(data)\n",
    "\n",
    "\n",
    "print(test_object[eng_features.get('season')].iat[val])"
   ]
  },
  {
   "cell_type": "code",
   "execution_count": null,
   "id": "ceebb60d",
   "metadata": {},
   "outputs": [],
   "source": []
  },
  {
   "cell_type": "markdown",
   "id": "199c1326",
   "metadata": {},
   "source": [
    "Weekday/Weekend Transformer"
   ]
  },
  {
   "cell_type": "code",
   "execution_count": 11,
   "id": "a8877de6",
   "metadata": {},
   "outputs": [
    {
     "name": "stdout",
     "output_type": "stream",
     "text": [
      "1\n",
      "weekday\n"
     ]
    }
   ],
   "source": [
    "imputer = DateTimeImputer(date_features.get('date'))\n",
    "data = imputer.transform(data)\n",
    "\n",
    "transformer = WeekdayTransformer()\n",
    "\n",
    "day = 157\n",
    "\n",
    "print(data[dt_features.get('day_of_week')].iat[day])\n",
    "test_object = transformer.fit_transform(data)\n",
    "print(test_object[eng_features.get('weekday')].iat[day])"
   ]
  },
  {
   "cell_type": "markdown",
   "id": "f44ebc77",
   "metadata": {},
   "source": [
    "ToD Transformer"
   ]
  },
  {
   "cell_type": "code",
   "execution_count": 51,
   "id": "5c0753cd",
   "metadata": {},
   "outputs": [
    {
     "data": {
      "text/plain": [
       "{'high': [0, 12, 18, 21, 20, 22, 19, 23, 17, 15],\n",
       " 'med': [16, 14, 1, 2, 13, 11, 10, 9, 3, 8],\n",
       " 'low': [4, 7, 5, 6]}"
      ]
     },
     "execution_count": 51,
     "metadata": {},
     "output_type": "execute_result"
    }
   ],
   "source": [
    "config.get('levels')"
   ]
  },
  {
   "cell_type": "code",
   "execution_count": 33,
   "id": "320f9e70",
   "metadata": {},
   "outputs": [
    {
     "name": "stdout",
     "output_type": "stream",
     "text": [
      "7\n"
     ]
    },
    {
     "data": {
      "text/plain": [
       "'low'"
      ]
     },
     "execution_count": 33,
     "metadata": {},
     "output_type": "execute_result"
    }
   ],
   "source": [
    "transformer = ToDTransformer(config.get('levels'))\n",
    "val = 114\n",
    "# 0: 8, 'med'\n",
    "# 63: 23, 'high'\n",
    "# 152: 6, 'low'\n",
    "print(data[dt_features.get('hour')].iat[val])\n",
    "test_object = transformer.fit_transform(data)\n",
    "\n",
    "test_object[eng_features.get('ToD')].iat[val]"
   ]
  },
  {
   "cell_type": "code",
   "execution_count": 44,
   "id": "51eb2df6",
   "metadata": {},
   "outputs": [
    {
     "data": {
      "text/plain": [
       "array([5, 4], dtype=int64)"
      ]
     },
     "execution_count": 44,
     "metadata": {},
     "output_type": "execute_result"
    }
   ],
   "source": [
    "test_object['occurrencehour'].unique()"
   ]
  },
  {
   "cell_type": "markdown",
   "id": "313b00a2",
   "metadata": {},
   "source": [
    "Holiday Transformer"
   ]
  },
  {
   "cell_type": "code",
   "execution_count": 36,
   "id": "4cc036c2",
   "metadata": {},
   "outputs": [],
   "source": [
    "idx = data[data[dt_features.get('day_of_year')] == 359].index\n",
    "# data[data[dt_features.get('Holiday')"
   ]
  },
  {
   "cell_type": "code",
   "execution_count": 37,
   "id": "b2cceea9",
   "metadata": {},
   "outputs": [
    {
     "data": {
      "text/plain": [
       "662      True\n",
       "996      True\n",
       "2075     True\n",
       "2156     True\n",
       "2421     True\n",
       "         ... \n",
       "29189    True\n",
       "29363    True\n",
       "29426    True\n",
       "29901    True\n",
       "29960    True\n",
       "Name: occurrencedayofyear, Length: 77, dtype: bool"
      ]
     },
     "execution_count": 37,
     "metadata": {},
     "output_type": "execute_result"
    }
   ],
   "source": [
    "data[data.index.isin(idx)][dt_features.get('day_of_year')] == 359"
   ]
  },
  {
   "cell_type": "code",
   "execution_count": 18,
   "id": "9ca654ad",
   "metadata": {},
   "outputs": [],
   "source": [
    "transformer = HolidayTransformer(config.get('holidays'))\n",
    "\n",
    "test_object = transformer.fit_transform(data)\n",
    "\n",
    "# Then\n",
    "assert all(test_object[test_object['occurrencedayofyear'] == 350][eng_features.get('holiday')] == 'non-holiday')"
   ]
  },
  {
   "cell_type": "markdown",
   "id": "9f87bbb3",
   "metadata": {},
   "source": [
    "Added Feature Transformer"
   ]
  },
  {
   "cell_type": "code",
   "execution_count": 3,
   "id": "6f8e0bfe",
   "metadata": {},
   "outputs": [],
   "source": [
    "targets = config.get('targets')"
   ]
  },
  {
   "cell_type": "code",
   "execution_count": 38,
   "id": "1a56d31a",
   "metadata": {},
   "outputs": [],
   "source": [
    "added_feature_names = [eng_features.get('pub'),\n",
    "    eng_features.get('park'),\n",
    "    eng_features.get('police_station')]\n",
    "\n",
    "added_features = [json.load(open(name+\".json\"))\n",
    "                            for name in added_feature_names]"
   ]
  },
  {
   "cell_type": "code",
   "execution_count": 39,
   "id": "b188c0f9",
   "metadata": {},
   "outputs": [],
   "source": [
    "transformer = NewFeatureTransformer(added_features, added_feature_names)\n",
    "test_object = transformer.fit_transform(X=data, y= data[[targets[0], targets[1]]])"
   ]
  },
  {
   "cell_type": "code",
   "execution_count": 50,
   "id": "308fcf3f",
   "metadata": {},
   "outputs": [
    {
     "data": {
      "text/plain": [
       "30000"
      ]
     },
     "execution_count": 50,
     "metadata": {},
     "output_type": "execute_result"
    }
   ],
   "source": [
    "len(test_object)"
   ]
  },
  {
   "cell_type": "code",
   "execution_count": 49,
   "id": "fd6badb8",
   "metadata": {},
   "outputs": [
    {
     "data": {
      "text/plain": [
       "23"
      ]
     },
     "execution_count": 49,
     "metadata": {},
     "output_type": "execute_result"
    }
   ],
   "source": [
    "len(test_object.PS_Id.unique())"
   ]
  },
  {
   "cell_type": "code",
   "execution_count": 41,
   "id": "8e047194",
   "metadata": {},
   "outputs": [
    {
     "data": {
      "text/plain": [
       "[162, 61, 18]"
      ]
     },
     "execution_count": 41,
     "metadata": {},
     "output_type": "execute_result"
    }
   ],
   "source": [
    "list(test_object[added_feature_names].iloc[0])"
   ]
  },
  {
   "cell_type": "markdown",
   "id": "397ba4bb",
   "metadata": {},
   "source": [
    "### Test prediction"
   ]
  },
  {
   "cell_type": "code",
   "execution_count": null,
   "id": "8b214a5f",
   "metadata": {},
   "outputs": [],
   "source": []
  },
  {
   "cell_type": "code",
   "execution_count": 12,
   "id": "52edb0bc",
   "metadata": {},
   "outputs": [],
   "source": [
    "from sklearn.decomposition import PCA\n",
    "from sklearn.linear_model import LinearRegression\n",
    "from sklearn.pipeline import Pipeline\n",
    "from sklearn.preprocessing import OneHotEncoder\n",
    "from typing import List\n",
    "from pydantic import BaseModel\n",
    "\n",
    "import transformers as t\n",
    "added_feature_names = [eng_features.get('pub'),\n",
    "    eng_features.get('park'),\n",
    "    eng_features.get('police_station')]\n",
    "\n",
    "added_features = [json.load(open(name+\".json\"))\n",
    "                            for name in added_feature_names]\n",
    "\n",
    "hyperparams = config.get('hyperparams')\n",
    "\n",
    "mci_pipeline = Pipeline(\n",
    "    [\n",
    "        (\"impute_date_time\", t.DateTimeImputer(config['datetime_features']['date'])),\n",
    "        (\"add_weekday/weekend\", t.WeekdayTransformer()),\n",
    "        (\"add_ToD_crime_level\", t.ToDTransformer(levels=config['levels'])),\n",
    "        (\"add_seasons\", t.SeasonTransformer(seasons=config['seasons'])),\n",
    "        (\"add_holidays\", t.HolidayTransformer(holidays=config['holidays'])),\n",
    "        (\"add_new_features\", t.NewFeatureTransformer(added_features, added_feature_names)),\n",
    "        (\"OHE\", OneHotEncoder(sparse=False)),\n",
    "        (\"PCA\", PCA(n_components=hyperparams['pca']['n_components'], svd_solver= str(hyperparams['pca']['svd_solver']))),\n",
    "        (\"linear_regression\", LinearRegression(normalize=bool(hyperparams['estimator']['normalize']))),\n",
    "    ]\n",
    ")\n"
   ]
  },
  {
   "cell_type": "code",
   "execution_count": 13,
   "id": "65190bd8",
   "metadata": {},
   "outputs": [
    {
     "name": "stdout",
     "output_type": "stream",
     "text": [
      "Index(['event_unique_id'], dtype='object')\n"
     ]
    }
   ],
   "source": [
    "train = load_dataset(file_name='../train.csv')"
   ]
  },
  {
   "cell_type": "code",
   "execution_count": 16,
   "id": "7b743cfb",
   "metadata": {},
   "outputs": [
    {
     "name": "stderr",
     "output_type": "stream",
     "text": [
      "C:\\Users\\Moham\\Anaconda3\\envs\\myenv\\lib\\site-packages\\sklearn\\linear_model\\_base.py:148: FutureWarning: 'normalize' was deprecated in version 1.0 and will be removed in 1.2. Please leave the normalize parameter to its default value to silence this warning. The default behavior of this estimator is to not do any normalization. If normalization is needed please use sklearn.preprocessing.StandardScaler instead.\n",
      "  warnings.warn(\n"
     ]
    },
    {
     "data": {
      "text/plain": [
       "Pipeline(steps=[('impute_date_time',\n",
       "                 DateTimeImputer(date_col='occurrencedate')),\n",
       "                ('add_weekday/weekend', WeekdayTransformer()),\n",
       "                ('add_ToD_crime_level',\n",
       "                 ToDTransformer(levels={'high': [0, 12, 18, 21, 20, 22, 19, 23,\n",
       "                                                 17, 15],\n",
       "                                        'low': [4, 7, 5, 6],\n",
       "                                        'med': [16, 14, 1, 2, 13, 11, 10, 9, 3,\n",
       "                                                8]})),\n",
       "                ('add_seasons',\n",
       "                 SeasonTransformer(seasons={'fall': [265, 353, 353],\n",
       "                                            'spring': [78, 170],\n",
       "                                            'summer'...\n",
       "                                                              -79.41790379999999,\n",
       "                                                              -79.42569999999999,\n",
       "                                                              -79.36257069999999,\n",
       "                                                              -79.46051779999999,\n",
       "                                                              -79.3859727,\n",
       "                                                              -79.2771722,\n",
       "                                                              -79.3606592,\n",
       "                                                              -79.41527839999999,\n",
       "                                                              -79.4180042,\n",
       "                                                              -79.26943159999999,\n",
       "                                                              -79.23992,\n",
       "                                                              -79.5090896,\n",
       "                                                              -79.2688019,\n",
       "                                                              -79.4870098,\n",
       "                                                              -79.2706525]}])),\n",
       "                ('OHE', OneHotEncoder(sparse=False)),\n",
       "                ('PCA', PCA(n_components=0.95, svd_solver='full')),\n",
       "                ('linear_regression', LinearRegression(normalize=False))])"
      ]
     },
     "execution_count": 16,
     "metadata": {},
     "output_type": "execute_result"
    }
   ],
   "source": [
    "mci_pipeline.fit(train[config.get('train_features')+config.get('inference_features_to_add')], \n",
    "                 train[config.get('targets')])"
   ]
  },
  {
   "cell_type": "code",
   "execution_count": 17,
   "id": "de00bb33",
   "metadata": {},
   "outputs": [
    {
     "data": {
      "text/plain": [
       "['trained_pipeline.pkl']"
      ]
     },
     "execution_count": 17,
     "metadata": {},
     "output_type": "execute_result"
    }
   ],
   "source": [
    "import joblib\n",
    "joblib.dump(mci_pipeline, 'trained_pipeline.pkl')"
   ]
  },
  {
   "cell_type": "code",
   "execution_count": 18,
   "id": "87ede1d0",
   "metadata": {},
   "outputs": [
    {
     "name": "stdout",
     "output_type": "stream",
     "text": [
      "Index(['event_unique_id'], dtype='object')\n"
     ]
    }
   ],
   "source": [
    "test = load_dataset(file_name='../test.csv')"
   ]
  },
  {
   "cell_type": "code",
   "execution_count": 33,
   "id": "0bb12967",
   "metadata": {},
   "outputs": [],
   "source": [
    "import joblib\n",
    "loaded_pipeline = joblib.load('trained_pipeline.pkl')\n",
    "loaded_pipeline.steps.pop(5);"
   ]
  },
  {
   "cell_type": "code",
   "execution_count": 34,
   "id": "3adf7e31",
   "metadata": {},
   "outputs": [
    {
     "data": {
      "text/plain": [
       "12"
      ]
     },
     "execution_count": 34,
     "metadata": {},
     "output_type": "execute_result"
    }
   ],
   "source": [
    "len(config.get('train_features')+config.get('inference_features_to_add'))"
   ]
  },
  {
   "cell_type": "code",
   "execution_count": 36,
   "id": "6d4549ae",
   "metadata": {},
   "outputs": [],
   "source": [
    "preds = loaded_pipeline.predict(test[config.get('train_features')+config.get('inference_features_to_add')])"
   ]
  },
  {
   "cell_type": "code",
   "execution_count": 37,
   "id": "2b3b79ba",
   "metadata": {},
   "outputs": [
    {
     "data": {
      "text/plain": [
       "(210992, 30000, 30000)"
      ]
     },
     "execution_count": 37,
     "metadata": {},
     "output_type": "execute_result"
    }
   ],
   "source": [
    "len(train), len(test), len(preds)"
   ]
  },
  {
   "cell_type": "code",
   "execution_count": 38,
   "id": "0bd2ecdd",
   "metadata": {},
   "outputs": [
    {
     "data": {
      "text/plain": [
       "array([ 43.7274248 , -79.37372841])"
      ]
     },
     "execution_count": 38,
     "metadata": {},
     "output_type": "execute_result"
    }
   ],
   "source": [
    "preds[0]"
   ]
  },
  {
   "cell_type": "code",
   "execution_count": 39,
   "id": "6c8fd374",
   "metadata": {},
   "outputs": [
    {
     "data": {
      "text/plain": [
       "occurrencedate         2017/02/28 05:00:00+00\n",
       "occurrencehour                             11\n",
       "premises_type                           House\n",
       "occurrencemonth                      February\n",
       "occurrencedayofweek                Tuesday   \n",
       "MCI                           Break and Enter\n",
       "Neighbourhood                  Highland Creek\n",
       "occurrenceday                              28\n",
       "occurrencedayofyear                        59\n",
       "Pub_Id                                      0\n",
       "Park_Id                                     0\n",
       "PS_Id                                       0\n",
       "Lat                                   43.7905\n",
       "Long                               -79.181186\n",
       "Name: 0, dtype: object"
      ]
     },
     "execution_count": 39,
     "metadata": {},
     "output_type": "execute_result"
    }
   ],
   "source": [
    "test.iloc[0]"
   ]
  },
  {
   "cell_type": "code",
   "execution_count": null,
   "id": "5836eb42",
   "metadata": {},
   "outputs": [],
   "source": []
  }
 ],
 "metadata": {
  "kernelspec": {
   "display_name": "Python 3 (ipykernel)",
   "language": "python",
   "name": "python3"
  },
  "language_info": {
   "codemirror_mode": {
    "name": "ipython",
    "version": 3
   },
   "file_extension": ".py",
   "mimetype": "text/x-python",
   "name": "python",
   "nbconvert_exporter": "python",
   "pygments_lexer": "ipython3",
   "version": "3.10.4"
  }
 },
 "nbformat": 4,
 "nbformat_minor": 5
}
