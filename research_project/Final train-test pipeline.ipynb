{
 "cells": [
  {
   "cell_type": "code",
   "execution_count": 52,
   "id": "2977256a",
   "metadata": {},
   "outputs": [],
   "source": [
    "import os\n",
    "import pickle\n",
    "import json\n",
    "\n",
    "import pandas as pd\n",
    "import numpy as np\n",
    "\n",
    "from sklearn.model_selection import train_test_split\n",
    "from sklearn_pandas import DataFrameMapper\n",
    "\n",
    "from feature_engine.selection import DropFeatures\n",
    "from sklearn.base import BaseEstimator, TransformerMixin\n",
    "import transformers_and_utilities as t\n",
    "from sklearn.decomposition import PCA\n",
    "from sklearn.preprocessing import OneHotEncoder, LabelBinarizer, OrdinalEncoder\n",
    "\n",
    "from sklearn.linear_model import LinearRegression\n",
    "from sklearn.multioutput import MultiOutputRegressor\n",
    "\n",
    "from sklearn.pipeline import Pipeline\n",
    "import xgboost\n",
    "\n",
    "import matplotlib.pyplot as plt"
   ]
  },
  {
   "cell_type": "markdown",
   "id": "0b0d9872",
   "metadata": {},
   "source": [
    "Config"
   ]
  },
  {
   "cell_type": "code",
   "execution_count": 53,
   "id": "99e7a516",
   "metadata": {},
   "outputs": [],
   "source": [
    "LEVELS = {'HIGH': [0, 12, 18, 21, 20, 22, 19, 23, 17, 15],\n",
    "         'MED': [16, 14, 1, 2, 13, 11, 10, 9, 3, 8],\n",
    "         'LOW': [4, 7, 5, 6]}\n",
    "\n",
    "ONTARIO_HOLIDAYS = [1, 46, 92, 144, 182, 249, 284, 359, 360]\n",
    "SEASONS = {\n",
    "     \"winter\": [354, 77], \n",
    "     \"spring\":  [78, 170],\n",
    "     \"summer\": [171, 264],\n",
    "     \"fall\": [265, 353]\n",
    "    }\n",
    "\n",
    "FEATURES = ['occurrencehour',\n",
    "  'Pub_Id',\n",
    "  'Park_Id',\n",
    "  'PS_Id',\n",
    "  'premises_type',\n",
    "  'occurrencemonth',\n",
    "  'occurrencedayofweek',\n",
    "  'MCI',\n",
    "  'Neighbourhood',\n",
    "  'occurrenceday',\n",
    "  'occurrencedayofyear']\n",
    "TARGETS = ['Long', 'Lat']"
   ]
  },
  {
   "cell_type": "code",
   "execution_count": 62,
   "id": "17ffcee9",
   "metadata": {},
   "outputs": [],
   "source": [
    "data = pd.read_csv('raw_data_plus_new_features.csv')\n",
    "data = data.drop_duplicates(subset=['event_unique_id']).reset_index()\n",
    "data.dropna(inplace=True)"
   ]
  },
  {
   "cell_type": "code",
   "execution_count": 63,
   "id": "cad64297",
   "metadata": {},
   "outputs": [],
   "source": [
    "X = data[FEATURES]\n",
    "y = data[TARGETS]"
   ]
  },
  {
   "cell_type": "code",
   "execution_count": 64,
   "id": "5d419969",
   "metadata": {},
   "outputs": [],
   "source": [
    "X = t.ReplaceNSA().fit_transform(X, y)"
   ]
  },
  {
   "cell_type": "code",
   "execution_count": 65,
   "id": "03723d02",
   "metadata": {},
   "outputs": [],
   "source": [
    "X_train, X_test, y_train, y_test = train_test_split(X,\n",
    "                                                    y,\n",
    "                                                    stratify=data['Neighbourhood'],\n",
    "                                                   shuffle=True,\n",
    "                                                    test_size=0.2,\n",
    "                                                   random_state=0)"
   ]
  },
  {
   "cell_type": "code",
   "execution_count": 66,
   "id": "161833d9",
   "metadata": {},
   "outputs": [],
   "source": [
    "mci_pipeline = Pipeline([\n",
    "    ('add_weekday/weekend', t.WeekdayTransformer()),\n",
    "    ('add_ToD_crime_level', t.ToDTransformer(levels=LEVELS)),\n",
    "    ('add_seasons', t.SeasonTransformer(seasons=SEASONS)),\n",
    "    ('add_holidays', t.HolidayTransformer(holidays=ONTARIO_HOLIDAYS)),\n",
    "    ('OHE', OneHotEncoder(sparse=False)),\n",
    "    ('PCA', PCA(n_components=0.95, svd_solver='full')),\n",
    "    ('linear_regression', LinearRegression())\n",
    "                        ])"
   ]
  },
  {
   "cell_type": "code",
   "execution_count": 67,
   "id": "e8bb7f15",
   "metadata": {},
   "outputs": [],
   "source": [
    "mci_pipeline.fit(X_train, y_train);"
   ]
  },
  {
   "cell_type": "code",
   "execution_count": 68,
   "id": "2f1ea61c",
   "metadata": {},
   "outputs": [
    {
     "name": "stdout",
     "output_type": "stream",
     "text": [
      "train mse: 0.00010462354781258122\n",
      "train rmse: 0.010103482955806467\n",
      "train r2: 0.9810674987289538\n",
      "\n",
      "test mse: 0.00011063251605171377\n",
      "test rmse: 0.010371861379940554\n",
      "test r2: 0.9802512825978178\n",
      "\n",
      "The average prediction error is 964.839084303294 \n",
      "      meters off the actual crime location using Euclidean distance.\n"
     ]
    }
   ],
   "source": [
    "from sklearn.metrics import mean_squared_error, r2_score\n",
    "\n",
    "# make predictions for the train set\n",
    "pred = mci_pipeline.predict(X_train)\n",
    "\n",
    "# determine mse, rmse and r2\n",
    "print('train mse: {}'.format(\n",
    "    mean_squared_error((y_train), (pred))))\n",
    "print('train rmse: {}'.format(\n",
    "    mean_squared_error((y_train), (pred), squared=False)))\n",
    "print('train r2: {}'.format(\n",
    "    r2_score((y_train), (pred))))\n",
    "print()\n",
    "\n",
    "# make predictions for the test set\n",
    "pred = mci_pipeline.predict(X_test)\n",
    "\n",
    "# determine mse, rmse and r2\n",
    "print('test mse: {}'.format(\n",
    "    mean_squared_error((y_test), (pred))))\n",
    "print('test rmse: {}'.format(\n",
    "    mean_squared_error((y_test), (pred), squared=False)))\n",
    "print('test r2: {}'.format(\n",
    "    r2_score((y_test), (pred))))\n",
    "print()\n",
    "\n",
    "\n",
    "error_in_meters = ((((pred[:, 0] - y_test.iloc[:, 0])**2 + \n",
    "                     (pred[:, 1] - y_test.iloc[:, 1])**2)**0.5).mean()) * 111139\n",
    "print(f\"\"\"The average prediction error is {error_in_meters} \n",
    "      meters off the actual crime location using Euclidean distance.\"\"\")"
   ]
  },
  {
   "cell_type": "code",
   "execution_count": 69,
   "id": "c67308b5",
   "metadata": {},
   "outputs": [
    {
     "name": "stdout",
     "output_type": "stream",
     "text": [
      "Crime locations predictions are about 706.32 meters off on average using Haversine distance.\n"
     ]
    }
   ],
   "source": [
    "# measure error in Haversine distance which is more suitable for geospatial data\n",
    "\n",
    "d = pd.DataFrame(np.concatenate((pred, y_test), axis=1, dtype=\"float64\"))\n",
    "d.columns = [\"lat1\",\"long1\",\"lat2\",\"long2\"]\n",
    "print(\"Crime locations predictions are about\", \n",
    "      round(t.haversine_distance(d, \"lat1\",\"long1\",\"lat2\", \"long2\").mean(),2),\n",
    "      \"meters off on average using Haversine distance.\")"
   ]
  },
  {
   "cell_type": "markdown",
   "id": "c8f626ea",
   "metadata": {},
   "source": [
    "Checking the distribution of our errors reveals that they are normally distributed with some degree of kurtosis."
   ]
  },
  {
   "cell_type": "code",
   "execution_count": 80,
   "id": "24545fcc",
   "metadata": {},
   "outputs": [
    {
     "data": {
      "text/plain": [
       "<matplotlib.legend.Legend at 0x1cf7c7098e0>"
      ]
     },
     "execution_count": 80,
     "metadata": {},
     "output_type": "execute_result"
    },
    {
     "data": {
      "image/png": "[encoded data removed]",
      "text/plain": [
       "<Figure size 432x288 with 1 Axes>"
      ]
     },
     "metadata": {
      "needs_background": "light"
     },
     "output_type": "display_data"
    }
   ],
   "source": [
    "lat_errors = pd.Series(y_test.iloc[:,1] - pred[:,1])\n",
    "long_errors = pd.Series(y_test.iloc[:,0] - pred[:,0])\n",
    "\n",
    "fig, ax = plt.subplots()\n",
    "ax.hist(x=lat_errors,bins=500, alpha=0.5, label='latitudinal errors')\n",
    "ax.hist(x=long_errors,bins=500, alpha=0.3, label='longitudinal errors')\n",
    "ax.set_xlim(left=-0.04, right=0.04)\n",
    "ax.legend()"
   ]
  }
 ],
 "metadata": {
  "kernelspec": {
   "display_name": "Python 3 (ipykernel)",
   "language": "python",
   "name": "python3"
  },
  "language_info": {
   "codemirror_mode": {
    "name": "ipython",
    "version": 3
   },
   "file_extension": ".py",
   "mimetype": "text/x-python",
   "name": "python",
   "nbconvert_exporter": "python",
   "pygments_lexer": "ipython3",
   "version": "3.9.7"
  }
 },
 "nbformat": 4,
 "nbformat_minor": 5
}
